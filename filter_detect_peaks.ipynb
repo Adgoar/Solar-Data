{
 "cells": [
  {
   "cell_type": "code",
   "execution_count": 2,
   "metadata": {},
   "outputs": [
    {
     "ename": "ModuleNotFoundError",
     "evalue": "No module named 'detect_peaks'",
     "output_type": "error",
     "traceback": [
      "\u001b[1;31m---------------------------------------------------------------------------\u001b[0m",
      "\u001b[1;31mModuleNotFoundError\u001b[0m                       Traceback (most recent call last)",
      "\u001b[1;32m<ipython-input-2-ae6826386932>\u001b[0m in \u001b[0;36m<module>\u001b[1;34m()\u001b[0m\n\u001b[0;32m      4\u001b[0m \u001b[1;32mfrom\u001b[0m \u001b[0mscipy\u001b[0m \u001b[1;32mimport\u001b[0m \u001b[0msignal\u001b[0m\u001b[1;33m\u001b[0m\u001b[0m\n\u001b[0;32m      5\u001b[0m \u001b[1;32mimport\u001b[0m \u001b[0mre\u001b[0m\u001b[1;33m\u001b[0m\u001b[0m\n\u001b[1;32m----> 6\u001b[1;33m \u001b[1;32mfrom\u001b[0m \u001b[0mdetect_peaks\u001b[0m \u001b[1;32mimport\u001b[0m \u001b[0mdetect_peaks\u001b[0m\u001b[1;33m\u001b[0m\u001b[0m\n\u001b[0m\u001b[0;32m      7\u001b[0m \u001b[1;33m\u001b[0m\u001b[0m\n\u001b[0;32m      8\u001b[0m \u001b[1;32mdef\u001b[0m \u001b[0mfilter_signal\u001b[0m \u001b[1;33m(\u001b[0m\u001b[0my\u001b[0m\u001b[1;33m)\u001b[0m\u001b[1;33m:\u001b[0m\u001b[1;33m\u001b[0m\u001b[0m\n",
      "\u001b[1;31mModuleNotFoundError\u001b[0m: No module named 'detect_peaks'"
     ]
    }
   ],
   "source": [
    "import numpy as np\n",
    "import random\n",
    "import matplotlib.pyplot as plt\n",
    "from scipy import signal\n",
    "import re\n",
    "from detect_peaks import detect_peaks\n",
    "\n",
    "def filter_signal (y):\n",
    "    b,a = signal.butter(8,0.125)\n",
    "    s = signal.filtfilt(b,a,y)\n",
    "    \n",
    "    return s\n",
    "\n",
    "rfile = open('test.csv','r')\n",
    "lines = rfile.readlines()\n",
    "t = []\n",
    "y = []\n",
    "rfile.close()\n",
    "test_length = int(len(lines)/100)\n",
    "#print(test_length)\n",
    "\n",
    "for line in lines[1:test_length]:\n",
    "    matchObj = re.match( r'(.*),(.*)', line, re.M|re.I)\n",
    "    if matchObj:\n",
    "        \n",
    "        t.append(float(matchObj.group(1)))\n",
    "        y.append(float(matchObj.group(2)))\n",
    "        \n",
    "        \n",
    "s = filter_signal(y)\n",
    "\n",
    "peaks = detect_peaks(s, show = True)\n",
    "print(peaks)\n",
    "\n",
    "plt.figure(figsize=(18,4))\n",
    "\n",
    "#for i in range(len(peaks)):\n",
    "#    plt.plot(t[peaks[i]],s[peaks[i]],'rx')\n",
    "    \n",
    "\n",
    "plt.plot(t,y,'g')\n",
    "plt.plot(t,s,'b')\n",
    "\n",
    "plt.show()"
   ]
  },
  {
   "cell_type": "code",
   "execution_count": null,
   "metadata": {},
   "outputs": [],
   "source": []
  },
  {
   "cell_type": "code",
   "execution_count": null,
   "metadata": {},
   "outputs": [],
   "source": []
  }
 ],
 "metadata": {
  "kernelspec": {
   "display_name": "Python 3",
   "language": "python",
   "name": "python3"
  },
  "language_info": {
   "codemirror_mode": {
    "name": "ipython",
    "version": 3
   },
   "file_extension": ".py",
   "mimetype": "text/x-python",
   "name": "python",
   "nbconvert_exporter": "python",
   "pygments_lexer": "ipython3",
   "version": "3.6.4"
  }
 },
 "nbformat": 4,
 "nbformat_minor": 2
}
